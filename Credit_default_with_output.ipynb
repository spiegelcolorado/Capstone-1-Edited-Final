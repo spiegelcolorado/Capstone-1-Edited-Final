{
 "cells": [
  {
   "cell_type": "markdown",
   "metadata": {},
   "source": [
    "# Explanation of features and numberical representation of categorical features"
   ]
  },
  {
   "cell_type": "markdown",
   "metadata": {},
   "source": [
    "\n",
    "\n",
    "There are 25 variables:\n",
    "\n",
    "ID: ID of each client\n",
    "LIMIT_BAL: Amount of given credit in NT dollars (includes individual and family/supplementary credit\n",
    "SEX: Gender (1=male, 2=female)\n",
    "EDUCATION: (1=graduate school, 2=university, 3=high school, 4=others, 5=unknown, 6=unknown)\n",
    "MARRIAGE: Marital status (1=married, 2=single, 3=others)\n",
    "AGE: Age in years\n",
    "PAY_0: Repayment status in September, 2005 (-1=pay duly, 1=payment delay for one month, 2=payment delay for two months, ... 8=payment delay for eight months, 9=payment delay for nine months and above)\n",
    "PAY_2: Repayment status in August, 2005 (scale same as above)\n",
    "PAY_3: Repayment status in July, 2005 (scale same as above)\n",
    "PAY_4: Repayment status in June, 2005 (scale same as above)\n",
    "PAY_5: Repayment status in May, 2005 (scale same as above)\n",
    "PAY_6: Repayment status in April, 2005 (scale same as above)\n",
    "BILL_AMT1: Amount of bill statement in September, 2005 (NT dollar)\n",
    "BILL_AMT2: Amount of bill statement in August, 2005 (NT dollar)\n",
    "BILL_AMT3: Amount of bill statement in July, 2005 (NT dollar)\n",
    "BILL_AMT4: Amount of bill statement in June, 2005 (NT dollar)\n",
    "BILL_AMT5: Amount of bill statement in May, 2005 (NT dollar)\n",
    "BILL_AMT6: Amount of bill statement in April, 2005 (NT dollar)\n",
    "PAY_AMT1: Amount of previous payment in September, 2005 (NT dollar)\n",
    "PAY_AMT2: Amount of previous payment in August, 2005 (NT dollar)\n",
    "PAY_AMT3: Amount of previous payment in July, 2005 (NT dollar)\n",
    "PAY_AMT4: Amount of previous payment in June, 2005 (NT dollar)\n",
    "PAY_AMT5: Amount of previous payment in May, 2005 (NT dollar)\n",
    "PAY_AMT6: Amount of previous payment in April, 2005 (NT dollar)\n",
    "default.payment.next.month: Default payment (1=yes, 0=no)\n",
    "\n",
    "Below is the response regarding the values used for fields X6:X11\n",
    "\n",
    "\"This research employed a binary variable, default payment (Yes = 1, No = 0), as the response variable. This study reviewed the literature and used the following 23 variables as explanatory variables:\n",
    "\n",
    "X1: Amount of the given credit (NT dollar): it includes both the individual consumer credit and his/her family (supplementary) credit.\n",
    "\n",
    "X2: Gender (1 = male; 2 = female).\n",
    "\n",
    "X3: Education (1 = graduate school; 2 = university; 3 = high school; 0, 4, 5, 6 = others).\n",
    "\n",
    "X4: Marital status (1 = married; 2 = single; 3 = divorce; 0=others).\n",
    "\n",
    "X5: Age (year).\n",
    "\n",
    "X6 - X11: History of past payment. We tracked the past monthly payment records (from April to September, 2005) as follows: X6 = the repayment status in September, 2005; X7 = the repayment status in August, 2005; . . .;X11 = the repayment status in April, 2005. The measurement scale for the repayment status is:\n",
    "\n",
    "-2: No consumption; -1: Paid in full; 0: The use of revolving credit; 1 = payment delay for one month; 2 = payment delay for two months; . . .; 8 = payment delay for eight months; 9 = payment delay for nine months and above.\n",
    "\n",
    "X12-X17: Amount of bill statement (NT dollar). X12 = amount of bill statement in September, 2005; X13 = amount of bill statement in August, 2005; . . .; X17 = amount of bill statement in April, 2005.\n",
    "\n",
    "X18-X23: Amount of previous payment (NT dollar). X18 = amount paid in September, 2005; X19 = amount paid in August, 2005; . . .;X23 = amount paid in April, 2005.\n",
    "\n",
    "Y: client's behavior; Y=0 then not default, Y=1 then default\"\n",
    "what does default in next month mean?\n",
    "\n",
    "it means the client will not pay next month\n",
    "- predictproba_\n",
    "- plot roc curve\n",
    "\n"
   ]
  },
  {
   "cell_type": "code",
   "execution_count": 2,
   "metadata": {},
   "outputs": [
    {
     "name": "stdout",
     "output_type": "stream",
     "text": [
      "['.ipynb_checkpoints', 'Balance_Limits.png', 'BSpiegel_Credit_Card_Data_Exploration-checkpoint-Copy1.ipynb', 'BSpiegel_Credit_Card_Data_Exploration-checkpoint.ipynb', 'completed credit card project.docx', 'Credit_default_9.9.19', 'Credit_default_with_output.ipynb', 'education_bar.png', 'PAY_0_bar.png', 'Percentagew_Limits.png', 'Percentage_L.png', 'Percentage_Lim.png', 'Percentage_Limit.png', 'Percentage_Limits.png', 'Percentage_Limits_wed.png', 'Percentage_LL.png', 'Percentage_LL2.png', 'Percent_Limit_Used.png', 'ROC_Curve.png', 'Total_Bills.png', 'UCI_Credit_Card.csv', 'Untitled.ipynb', '~$mpleted credit card project.docx']\n"
     ]
    }
   ],
   "source": [
    "pay_dict= {}\n",
    "import random\n",
    "import os\n",
    "import csv\n",
    "import pandas as pd\n",
    "import matplotlib.pyplot as plt\n",
    "import seaborn as sns\n",
    "import numpy as np\n",
    "from sklearn.preprocessing import StandardScaler\n",
    "print(os.listdir())\n",
    "seedy = random.seed(42)"
   ]
  },
  {
   "cell_type": "code",
   "execution_count": 3,
   "metadata": {},
   "outputs": [
    {
     "name": "stdout",
     "output_type": "stream",
     "text": [
      "Index(['ID', 'LIMIT_BAL', 'SEX', 'EDUCATION', 'MARRIAGE', 'AGE', 'PAY_0',\n",
      "       'PAY_2', 'PAY_3', 'PAY_4', 'PAY_5', 'PAY_6', 'BILL_AMT1', 'BILL_AMT2',\n",
      "       'BILL_AMT3', 'BILL_AMT4', 'BILL_AMT5', 'BILL_AMT6', 'PAY_AMT1',\n",
      "       'PAY_AMT2', 'PAY_AMT3', 'PAY_AMT4', 'PAY_AMT5', 'PAY_AMT6',\n",
      "       'default.payment.next.month', 'PERCENT_LIMIT', 'PERCENT_PAY'],\n",
      "      dtype='object')\n"
     ]
    }
   ],
   "source": [
    "df = pd.read_csv('UCI_Credit_Card.csv')\n",
    "df['PERCENT_LIMIT'] = df['BILL_AMT1']/df['LIMIT_BAL'] \n",
    "df['PERCENT_LIMIT'] = round(df['PERCENT_LIMIT'],2)\n",
    "df['PERCENT_PAY'] = df['PAY_AMT1']/df['LIMIT_BAL'] \n",
    "df['PERCENT_PAY'] = round(df['PERCENT_PAY'],2)\n",
    "print(df.columns)\n",
    "df2 = df.copy()"
   ]
  },
  {
   "cell_type": "code",
   "execution_count": 4,
   "metadata": {},
   "outputs": [
    {
     "data": {
      "text/html": [
       "<div>\n",
       "<style scoped>\n",
       "    .dataframe tbody tr th:only-of-type {\n",
       "        vertical-align: middle;\n",
       "    }\n",
       "\n",
       "    .dataframe tbody tr th {\n",
       "        vertical-align: top;\n",
       "    }\n",
       "\n",
       "    .dataframe thead th {\n",
       "        text-align: right;\n",
       "    }\n",
       "</style>\n",
       "<table border=\"1\" class=\"dataframe\">\n",
       "  <thead>\n",
       "    <tr style=\"text-align: right;\">\n",
       "      <th></th>\n",
       "      <th>ID</th>\n",
       "      <th>LIMIT_BAL</th>\n",
       "      <th>SEX</th>\n",
       "      <th>EDUCATION</th>\n",
       "      <th>MARRIAGE</th>\n",
       "      <th>AGE</th>\n",
       "      <th>PAY_0</th>\n",
       "      <th>PAY_2</th>\n",
       "      <th>PAY_3</th>\n",
       "      <th>PAY_4</th>\n",
       "      <th>...</th>\n",
       "      <th>BILL_AMT6</th>\n",
       "      <th>PAY_AMT1</th>\n",
       "      <th>PAY_AMT2</th>\n",
       "      <th>PAY_AMT3</th>\n",
       "      <th>PAY_AMT4</th>\n",
       "      <th>PAY_AMT5</th>\n",
       "      <th>PAY_AMT6</th>\n",
       "      <th>default.payment.next.month</th>\n",
       "      <th>PERCENT_LIMIT</th>\n",
       "      <th>PERCENT_PAY</th>\n",
       "    </tr>\n",
       "  </thead>\n",
       "  <tbody>\n",
       "    <tr>\n",
       "      <th>count</th>\n",
       "      <td>30000.000000</td>\n",
       "      <td>30000.000000</td>\n",
       "      <td>30000.000000</td>\n",
       "      <td>30000.000000</td>\n",
       "      <td>30000.000000</td>\n",
       "      <td>30000.000000</td>\n",
       "      <td>30000.000000</td>\n",
       "      <td>30000.000000</td>\n",
       "      <td>30000.000000</td>\n",
       "      <td>30000.000000</td>\n",
       "      <td>...</td>\n",
       "      <td>30000.000000</td>\n",
       "      <td>30000.000000</td>\n",
       "      <td>3.000000e+04</td>\n",
       "      <td>30000.00000</td>\n",
       "      <td>30000.000000</td>\n",
       "      <td>30000.000000</td>\n",
       "      <td>30000.000000</td>\n",
       "      <td>30000.000000</td>\n",
       "      <td>30000.000000</td>\n",
       "      <td>30000.000000</td>\n",
       "    </tr>\n",
       "    <tr>\n",
       "      <th>mean</th>\n",
       "      <td>15000.500000</td>\n",
       "      <td>167484.322667</td>\n",
       "      <td>1.603733</td>\n",
       "      <td>1.853133</td>\n",
       "      <td>1.551867</td>\n",
       "      <td>35.485500</td>\n",
       "      <td>-0.016700</td>\n",
       "      <td>-0.133767</td>\n",
       "      <td>-0.166200</td>\n",
       "      <td>-0.220667</td>\n",
       "      <td>...</td>\n",
       "      <td>38871.760400</td>\n",
       "      <td>5663.580500</td>\n",
       "      <td>5.921163e+03</td>\n",
       "      <td>5225.68150</td>\n",
       "      <td>4826.076867</td>\n",
       "      <td>4799.387633</td>\n",
       "      <td>5215.502567</td>\n",
       "      <td>0.221200</td>\n",
       "      <td>0.423700</td>\n",
       "      <td>0.045023</td>\n",
       "    </tr>\n",
       "    <tr>\n",
       "      <th>std</th>\n",
       "      <td>8660.398374</td>\n",
       "      <td>129747.661567</td>\n",
       "      <td>0.489129</td>\n",
       "      <td>0.790349</td>\n",
       "      <td>0.521970</td>\n",
       "      <td>9.217904</td>\n",
       "      <td>1.123802</td>\n",
       "      <td>1.197186</td>\n",
       "      <td>1.196868</td>\n",
       "      <td>1.169139</td>\n",
       "      <td>...</td>\n",
       "      <td>59554.107537</td>\n",
       "      <td>16563.280354</td>\n",
       "      <td>2.304087e+04</td>\n",
       "      <td>17606.96147</td>\n",
       "      <td>15666.159744</td>\n",
       "      <td>15278.305679</td>\n",
       "      <td>17777.465775</td>\n",
       "      <td>0.415062</td>\n",
       "      <td>0.411554</td>\n",
       "      <td>0.100287</td>\n",
       "    </tr>\n",
       "    <tr>\n",
       "      <th>min</th>\n",
       "      <td>1.000000</td>\n",
       "      <td>10000.000000</td>\n",
       "      <td>1.000000</td>\n",
       "      <td>0.000000</td>\n",
       "      <td>0.000000</td>\n",
       "      <td>21.000000</td>\n",
       "      <td>-2.000000</td>\n",
       "      <td>-2.000000</td>\n",
       "      <td>-2.000000</td>\n",
       "      <td>-2.000000</td>\n",
       "      <td>...</td>\n",
       "      <td>-339603.000000</td>\n",
       "      <td>0.000000</td>\n",
       "      <td>0.000000e+00</td>\n",
       "      <td>0.00000</td>\n",
       "      <td>0.000000</td>\n",
       "      <td>0.000000</td>\n",
       "      <td>0.000000</td>\n",
       "      <td>0.000000</td>\n",
       "      <td>-0.620000</td>\n",
       "      <td>0.000000</td>\n",
       "    </tr>\n",
       "    <tr>\n",
       "      <th>25%</th>\n",
       "      <td>7500.750000</td>\n",
       "      <td>50000.000000</td>\n",
       "      <td>1.000000</td>\n",
       "      <td>1.000000</td>\n",
       "      <td>1.000000</td>\n",
       "      <td>28.000000</td>\n",
       "      <td>-1.000000</td>\n",
       "      <td>-1.000000</td>\n",
       "      <td>-1.000000</td>\n",
       "      <td>-1.000000</td>\n",
       "      <td>...</td>\n",
       "      <td>1256.000000</td>\n",
       "      <td>1000.000000</td>\n",
       "      <td>8.330000e+02</td>\n",
       "      <td>390.00000</td>\n",
       "      <td>296.000000</td>\n",
       "      <td>252.500000</td>\n",
       "      <td>117.750000</td>\n",
       "      <td>0.000000</td>\n",
       "      <td>0.020000</td>\n",
       "      <td>0.000000</td>\n",
       "    </tr>\n",
       "    <tr>\n",
       "      <th>50%</th>\n",
       "      <td>15000.500000</td>\n",
       "      <td>140000.000000</td>\n",
       "      <td>2.000000</td>\n",
       "      <td>2.000000</td>\n",
       "      <td>2.000000</td>\n",
       "      <td>34.000000</td>\n",
       "      <td>0.000000</td>\n",
       "      <td>0.000000</td>\n",
       "      <td>0.000000</td>\n",
       "      <td>0.000000</td>\n",
       "      <td>...</td>\n",
       "      <td>17071.000000</td>\n",
       "      <td>2100.000000</td>\n",
       "      <td>2.009000e+03</td>\n",
       "      <td>1800.00000</td>\n",
       "      <td>1500.000000</td>\n",
       "      <td>1500.000000</td>\n",
       "      <td>1500.000000</td>\n",
       "      <td>0.000000</td>\n",
       "      <td>0.310000</td>\n",
       "      <td>0.020000</td>\n",
       "    </tr>\n",
       "    <tr>\n",
       "      <th>75%</th>\n",
       "      <td>22500.250000</td>\n",
       "      <td>240000.000000</td>\n",
       "      <td>2.000000</td>\n",
       "      <td>2.000000</td>\n",
       "      <td>2.000000</td>\n",
       "      <td>41.000000</td>\n",
       "      <td>0.000000</td>\n",
       "      <td>0.000000</td>\n",
       "      <td>0.000000</td>\n",
       "      <td>0.000000</td>\n",
       "      <td>...</td>\n",
       "      <td>49198.250000</td>\n",
       "      <td>5006.000000</td>\n",
       "      <td>5.000000e+03</td>\n",
       "      <td>4505.00000</td>\n",
       "      <td>4013.250000</td>\n",
       "      <td>4031.500000</td>\n",
       "      <td>4000.000000</td>\n",
       "      <td>0.000000</td>\n",
       "      <td>0.830000</td>\n",
       "      <td>0.050000</td>\n",
       "    </tr>\n",
       "    <tr>\n",
       "      <th>max</th>\n",
       "      <td>30000.000000</td>\n",
       "      <td>1000000.000000</td>\n",
       "      <td>2.000000</td>\n",
       "      <td>6.000000</td>\n",
       "      <td>3.000000</td>\n",
       "      <td>79.000000</td>\n",
       "      <td>8.000000</td>\n",
       "      <td>8.000000</td>\n",
       "      <td>8.000000</td>\n",
       "      <td>8.000000</td>\n",
       "      <td>...</td>\n",
       "      <td>961664.000000</td>\n",
       "      <td>873552.000000</td>\n",
       "      <td>1.684259e+06</td>\n",
       "      <td>896040.00000</td>\n",
       "      <td>621000.000000</td>\n",
       "      <td>426529.000000</td>\n",
       "      <td>528666.000000</td>\n",
       "      <td>1.000000</td>\n",
       "      <td>6.460000</td>\n",
       "      <td>2.600000</td>\n",
       "    </tr>\n",
       "  </tbody>\n",
       "</table>\n",
       "<p>8 rows × 27 columns</p>\n",
       "</div>"
      ],
      "text/plain": [
       "                 ID       LIMIT_BAL           SEX     EDUCATION      MARRIAGE  \\\n",
       "count  30000.000000    30000.000000  30000.000000  30000.000000  30000.000000   \n",
       "mean   15000.500000   167484.322667      1.603733      1.853133      1.551867   \n",
       "std     8660.398374   129747.661567      0.489129      0.790349      0.521970   \n",
       "min        1.000000    10000.000000      1.000000      0.000000      0.000000   \n",
       "25%     7500.750000    50000.000000      1.000000      1.000000      1.000000   \n",
       "50%    15000.500000   140000.000000      2.000000      2.000000      2.000000   \n",
       "75%    22500.250000   240000.000000      2.000000      2.000000      2.000000   \n",
       "max    30000.000000  1000000.000000      2.000000      6.000000      3.000000   \n",
       "\n",
       "                AGE         PAY_0         PAY_2         PAY_3         PAY_4  \\\n",
       "count  30000.000000  30000.000000  30000.000000  30000.000000  30000.000000   \n",
       "mean      35.485500     -0.016700     -0.133767     -0.166200     -0.220667   \n",
       "std        9.217904      1.123802      1.197186      1.196868      1.169139   \n",
       "min       21.000000     -2.000000     -2.000000     -2.000000     -2.000000   \n",
       "25%       28.000000     -1.000000     -1.000000     -1.000000     -1.000000   \n",
       "50%       34.000000      0.000000      0.000000      0.000000      0.000000   \n",
       "75%       41.000000      0.000000      0.000000      0.000000      0.000000   \n",
       "max       79.000000      8.000000      8.000000      8.000000      8.000000   \n",
       "\n",
       "       ...      BILL_AMT6       PAY_AMT1      PAY_AMT2      PAY_AMT3  \\\n",
       "count  ...   30000.000000   30000.000000  3.000000e+04   30000.00000   \n",
       "mean   ...   38871.760400    5663.580500  5.921163e+03    5225.68150   \n",
       "std    ...   59554.107537   16563.280354  2.304087e+04   17606.96147   \n",
       "min    ... -339603.000000       0.000000  0.000000e+00       0.00000   \n",
       "25%    ...    1256.000000    1000.000000  8.330000e+02     390.00000   \n",
       "50%    ...   17071.000000    2100.000000  2.009000e+03    1800.00000   \n",
       "75%    ...   49198.250000    5006.000000  5.000000e+03    4505.00000   \n",
       "max    ...  961664.000000  873552.000000  1.684259e+06  896040.00000   \n",
       "\n",
       "            PAY_AMT4       PAY_AMT5       PAY_AMT6  \\\n",
       "count   30000.000000   30000.000000   30000.000000   \n",
       "mean     4826.076867    4799.387633    5215.502567   \n",
       "std     15666.159744   15278.305679   17777.465775   \n",
       "min         0.000000       0.000000       0.000000   \n",
       "25%       296.000000     252.500000     117.750000   \n",
       "50%      1500.000000    1500.000000    1500.000000   \n",
       "75%      4013.250000    4031.500000    4000.000000   \n",
       "max    621000.000000  426529.000000  528666.000000   \n",
       "\n",
       "       default.payment.next.month  PERCENT_LIMIT   PERCENT_PAY  \n",
       "count                30000.000000   30000.000000  30000.000000  \n",
       "mean                     0.221200       0.423700      0.045023  \n",
       "std                      0.415062       0.411554      0.100287  \n",
       "min                      0.000000      -0.620000      0.000000  \n",
       "25%                      0.000000       0.020000      0.000000  \n",
       "50%                      0.000000       0.310000      0.020000  \n",
       "75%                      0.000000       0.830000      0.050000  \n",
       "max                      1.000000       6.460000      2.600000  \n",
       "\n",
       "[8 rows x 27 columns]"
      ]
     },
     "execution_count": 4,
     "metadata": {},
     "output_type": "execute_result"
    }
   ],
   "source": [
    "df.BILL_AMT1.sum()\n",
    "df.describe()"
   ]
  },
  {
   "cell_type": "code",
   "execution_count": 5,
   "metadata": {},
   "outputs": [],
   "source": [
    "paydf = df.loc[:,['PAY_0','PAY_2', 'PAY_3', 'PAY_4', 'PAY_5', 'PAY_6']]\n",
    "\n",
    "lister = []\n",
    "for row in np.array(paydf):\n",
    "    value = np.any(row>0, axis = 0) \n",
    "    lister.append(value)\n",
    "paydf['never_default']=lister\n",
    "\n",
    "df2['ever_default'] = paydf['never_default'].astype('int')\n",
    "\n"
   ]
  },
  {
   "cell_type": "code",
   "execution_count": 5,
   "metadata": {
    "scrolled": true
   },
   "outputs": [],
   "source": [
    "df_BILL_PAY = df.loc[:,['PAY_0', 'PAY_2','PAY_3', 'PAY_4', 'PAY_5', 'BILL_AMT1','BILL_AMT2','BILL_AMT3','BILL_AMT4', 'BILL_AMT5','BILL_AMT6', 'PAY_AMT1',  'PAY_AMT2',  'PAY_AMT3',  'PAY_AMT4',  'PAY_AMT5',  'PAY_AMT6']]\n"
   ]
  },
  {
   "cell_type": "code",
   "execution_count": 6,
   "metadata": {},
   "outputs": [],
   "source": [
    "df2['Limit_history'] = df2.PERCENT_LIMIT*df2.ever_default\n",
    "df2['Total_PAY_AMT']= (df2.PAY_AMT1 + df2.PAY_AMT2 + df2.PAY_AMT3 + df2.PAY_AMT4 + df2.PAY_AMT5)\n",
    "df2['total_months_behind'] = (df2.PAY_0 + df2.PAY_2 + df2.PAY_3 + df2.PAY_4 + df2.PAY_5 + df2.PAY_6)\n",
    "df2['Total_Bill_AMT'] = (df2.BILL_AMT2 + df2.BILL_AMT3 + df2.BILL_AMT4 + df2.BILL_AMT5 + df2.BILL_AMT6)\n"
   ]
  },
  {
   "cell_type": "code",
   "execution_count": 7,
   "metadata": {},
   "outputs": [],
   "source": [
    "paydict = {-2:0,-1:0,0:0,1:1,2:2,3:3,4:4,5:5,6:6,7:7,8:8,9:9}\n",
    "df5 = df.copy()\n",
    "df5.PAY_0 = df5.PAY_0.map(paydict)\n",
    "df5.PAY_2 = df5.PAY_2.map(paydict)\n",
    "df5.PAY_3 = df5.PAY_3.map(paydict)\n",
    "df5.PAY_4 = df5.PAY_4.map(paydict)\n",
    "df5.PAY_5 = df5.PAY_5.map(paydict)\n",
    "df5.PAY_6 = df5.PAY_6.map(paydict)\n",
    "df5[:20]\n",
    "df5['aggregate_default'] = df5.PAY_0 + df5.PAY_2 + df5.PAY_3 + df5.PAY_4 + df5.PAY_5 + df5.PAY_6\n",
    "df2['aggregate_default'] = df5['aggregate_default']"
   ]
  },
  {
   "cell_type": "code",
   "execution_count": 8,
   "metadata": {},
   "outputs": [],
   "source": [
    "paydict2 = {-2:0,-1:0,0:0,1:1,2:1,3:1,4:1,5:1,6:1,7:1,8:1,9:1}\n",
    "df6 = df.copy()\n",
    "df6.PAY_0 = df6.PAY_0.map(paydict2)\n",
    "df6.PAY_2 = df6.PAY_2.map(paydict2)\n",
    "df6.PAY_3 = df6.PAY_3.map(paydict2)\n",
    "df6.PAY_4 = df6.PAY_4.map(paydict2)\n",
    "df6.PAY_5 = df6.PAY_5.map(paydict2)\n",
    "df6.PAY_6 = df6.PAY_6.map(paydict2)\n",
    "df2['aggregate_default_simple'] = df6.PAY_0 + df6.PAY_2 + df6.PAY_3 + df6.PAY_4 + df6.PAY_5 + df6.PAY_6\n"
   ]
  },
  {
   "cell_type": "markdown",
   "metadata": {},
   "source": [
    "# Feature Creation \n",
    "\n",
    "In trying to get the best predictive results from my model, I worked with feature creation. Knowing that many of the features have relationships I attempted to create numerical representation of the relationships. In some instance features on their own may not be highly predictive but the interaction may be.  \n",
    "\n",
    "I created 'aggregate_default_simple' so that I could create an sum of all the months an individual defaulted during the 6 months stracked. I created pay paydict2 above to modify the numbers in PAY_0 to PAY_6 creating what i thought would be a better representation. I wanted an aggregate of the total months that a person has defaulted in the months tracked. The negative in the columns Pay_0 to Pay_6 numbers tells if a person has paid off there card in full (-1) or didn't use there credit card at all (-2). So in an instance that an individual didn't use their card at all to begin with, it's summation with two months of default would negate the defaults. This would decrease the correlation of the given feature with an individuals default history. Similarly in the rows PAY_0 throuh PAY:6, when a number is higher than 1 it tells how many months in a row an individual has defaulted. In creating a sum of how many months have been defaulted, each row is describing all the months on record, rows which are already being described. If I do not remap the original positive numbers an individual who defaults 3 month in row people would be represented with a value of 6 ( 1 (month 1) + 2 (month 2) +3 (month). Just to see if there was any value from not changing the positive numbers, if defaulting many times in a row was predictive I also created 'aggregate_default' the only difference with the earlier feature being that i did not remap all positive values to be 1. \n",
    "\n",
    "The respective feature importance of aggregate_default_simple' and 'aggregate default' were 0.13718832, 0.01436583 results, demonstrating that remapping all positives values to 1 gave more predictive values. \n"
   ]
  },
  {
   "cell_type": "code",
   "execution_count": 9,
   "metadata": {
    "scrolled": true
   },
   "outputs": [
    {
     "name": "stdout",
     "output_type": "stream",
     "text": [
      "(0, 'ID')\n",
      "(1, 'LIMIT_BAL')\n",
      "(2, 'SEX')\n",
      "(3, 'EDUCATION')\n",
      "(4, 'MARRIAGE')\n",
      "(5, 'AGE')\n",
      "(6, 'PAY_0')\n",
      "(7, 'PAY_2')\n",
      "(8, 'PAY_3')\n",
      "(9, 'PAY_4')\n",
      "(10, 'PAY_5')\n",
      "(11, 'PAY_6')\n",
      "(12, 'BILL_AMT1')\n",
      "(13, 'BILL_AMT2')\n",
      "(14, 'BILL_AMT3')\n",
      "(15, 'BILL_AMT4')\n",
      "(16, 'BILL_AMT5')\n",
      "(17, 'BILL_AMT6')\n",
      "(18, 'PAY_AMT1')\n",
      "(19, 'PAY_AMT2')\n",
      "(20, 'PAY_AMT3')\n",
      "(21, 'PAY_AMT4')\n",
      "(22, 'PAY_AMT5')\n",
      "(23, 'PAY_AMT6')\n",
      "(24, 'default.payment.next.month')\n",
      "(25, 'PERCENT_LIMIT')\n",
      "(26, 'PERCENT_PAY')\n",
      "(27, 'ever_default')\n",
      "(28, 'Limit_history')\n",
      "(29, 'Total_PAY_AMT')\n",
      "(30, 'total_months_behind')\n",
      "(31, 'Total_Bill_AMT')\n",
      "(32, 'aggregate_default')\n",
      "(33, 'aggregate_default_simple')\n",
      "(34, 'default_last_month')\n"
     ]
    }
   ],
   "source": [
    "df2['default_last_month'] = df['default.payment.next.month']\n",
    "\n",
    "for name in enumerate(df2.columns):\n",
    "    print(name)"
   ]
  },
  {
   "cell_type": "code",
   "execution_count": 10,
   "metadata": {},
   "outputs": [
    {
     "data": {
      "text/plain": [
       "(-153040.795, 266606.0]    17820\n",
       "(266606.0, 684165.0]        5208\n",
       "(684165.0, 1101724.0]       1697\n",
       "(1101724.0, 1519283.0]       471\n",
       "(1519283.0, 1936842.0]       173\n",
       "Name: Total_Bill_AMT, dtype: int64"
      ]
     },
     "execution_count": 10,
     "metadata": {},
     "output_type": "execute_result"
    }
   ],
   "source": [
    "df12 = df2.copy()\n",
    "df12 = df12[df12['Total_Bill_AMT']<1937788.6]\n",
    "df12 = df12[df12['PERCENT_LIMIT']>0.0]\n",
    "\n",
    "Total_bill_bins = pd.cut(df12['Total_Bill_AMT'], bins = 5)\n",
    "df12['T_Bills'] = Total_bill_bins\n",
    "Total_bill_bins.value_counts()\n",
    "\n"
   ]
  },
  {
   "cell_type": "code",
   "execution_count": 11,
   "metadata": {},
   "outputs": [
    {
     "data": {
      "image/png": "[encoded data removed]",
      "text/plain": [
       "<Figure size 432x288 with 1 Axes>"
      ]
     },
     "metadata": {
      "needs_background": "light"
     },
     "output_type": "display_data"
    }
   ],
   "source": [
    "sns.countplot(Total_bill_bins,  hue = df12['default_last_month'])\n",
    "plt.xticks(ticks = np.arange(5), labels = ['<30.6%', '<60.2%','<89.8%', '<119.4%', '<149.0%'] )\n",
    "plt.xlabel('Percent of Balance Limit Used')\n",
    "plt.legend(title = 'Default Status', labels = ['No Default', 'Defaulted on Payment'])\n",
    "plt.savefig('Total_Bills.png')\n"
   ]
  },
  {
   "cell_type": "code",
   "execution_count": 58,
   "metadata": {},
   "outputs": [
    {
     "data": {
      "text/plain": [
       "T_Bills                  default_last_month\n",
       "(-153040.795, 266606.0]  0                     0.773288\n",
       "                         1                     0.226712\n",
       "(266606.0, 684165.0]     0                     0.797427\n",
       "                         1                     0.202573\n",
       "(684165.0, 1101724.0]    0                     0.802004\n",
       "                         1                     0.197996\n",
       "(1101724.0, 1519283.0]   0                     0.774947\n",
       "                         1                     0.225053\n",
       "(1519283.0, 1936842.0]   0                     0.751445\n",
       "                         1                     0.248555\n",
       "Name: default_last_month, dtype: float64"
      ]
     },
     "execution_count": 58,
     "metadata": {},
     "output_type": "execute_result"
    }
   ],
   "source": [
    "df_Tot_bns = df12.groupby(['T_Bills'])\n",
    "df_Tot_bns.default_last_month.value_counts(normalize=True)\n"
   ]
  },
  {
   "cell_type": "code",
   "execution_count": 13,
   "metadata": {
    "scrolled": true
   },
   "outputs": [
    {
     "name": "stdout",
     "output_type": "stream",
     "text": [
      "Index(['ID', 'LIMIT_BAL', 'SEX', 'EDUCATION', 'MARRIAGE', 'AGE', 'PAY_0',\n",
      "       'PAY_2', 'PAY_3', 'PAY_4', 'PAY_5', 'PAY_6', 'BILL_AMT1', 'BILL_AMT2',\n",
      "       'BILL_AMT3', 'BILL_AMT4', 'BILL_AMT5', 'BILL_AMT6', 'PAY_AMT1',\n",
      "       'PAY_AMT2', 'PAY_AMT3', 'PAY_AMT4', 'PAY_AMT5', 'PAY_AMT6',\n",
      "       'default.payment.next.month', 'PERCENT_LIMIT', 'PERCENT_PAY',\n",
      "       'ever_default', 'Limit_history', 'Total_PAY_AMT', 'total_months_behind',\n",
      "       'Total_Bill_AMT', 'aggregate_default', 'aggregate_default_simple',\n",
      "       'default_last_month'],\n",
      "      dtype='object')\n"
     ]
    },
    {
     "data": {
      "image/png": "[encoded data removed]",
      "text/plain": [
       "<Figure size 432x288 with 1 Axes>"
      ]
     },
     "metadata": {
      "needs_background": "light"
     },
     "output_type": "display_data"
    }
   ],
   "source": [
    "df11 = df2.copy()\n",
    "df11 = df11[df11['PERCENT_LIMIT']<1.5]\n",
    "df11 = df11[df11['PERCENT_LIMIT']>0.0]\n",
    "print(df11.columns)\n",
    "df11.PERCENT_LIMIT.head()\n",
    "percent_limit_bins = pd.cut(df11['PERCENT_LIMIT'], bins = 5)\n",
    "df11['percent_limit_bins'] = percent_limit_bins\n",
    "percent_limit_bins.unique()\n",
    "plt.clf()\n",
    "\n",
    "sns.countplot(percent_limit_bins,  hue = df11['default_last_month'])\n",
    "plt.xticks(ticks = np.arange(5), labels = ['<30.6%', '<60.2%','<89.8%', '<119.4%', '<149.0%'] )\n",
    "plt.xlabel('Percent of Balance Limit Used')\n",
    "plt.legend(title = 'Default Status', labels = ['No Default', 'Defaulted on Payment'])\n",
    "plt.savefig('Percentage_LL2.png')\n"
   ]
  },
  {
   "cell_type": "code",
   "execution_count": 14,
   "metadata": {},
   "outputs": [
    {
     "data": {
      "text/plain": [
       "percent_limit_bins  default_last_month\n",
       "(0.00852, 0.306]    0                     0.835688\n",
       "                    1                     0.164312\n",
       "(0.306, 0.602]      0                     0.768622\n",
       "                    1                     0.231378\n",
       "(0.602, 0.898]      0                     0.722604\n",
       "                    1                     0.277396\n",
       "(0.898, 1.194]      0                     0.737716\n",
       "                    1                     0.262284\n",
       "(1.194, 1.49]       0                     0.684524\n",
       "                    1                     0.315476\n",
       "Name: default_last_month, dtype: float64"
      ]
     },
     "execution_count": 14,
     "metadata": {},
     "output_type": "execute_result"
    }
   ],
   "source": [
    "df_pct_bns = df11.groupby(['percent_limit_bins'])\n",
    "df_pct_bns.default_last_month.value_counts(normalize = True)\n"
   ]
  },
  {
   "cell_type": "code",
   "execution_count": 15,
   "metadata": {},
   "outputs": [],
   "source": [
    "df2 = df2.drop('default.payment.next.month', axis = 1)\n"
   ]
  },
  {
   "cell_type": "code",
   "execution_count": 16,
   "metadata": {
    "scrolled": true
   },
   "outputs": [
    {
     "data": {
      "image/png": "[encoded data removed]",
      "text/plain": [
       "<Figure size 864x864 with 2 Axes>"
      ]
     },
     "metadata": {
      "needs_background": "light"
     },
     "output_type": "display_data"
    }
   ],
   "source": [
    "\n",
    "fig, ax = plt.subplots()\n",
    "fig.set_size_inches(12, 12)\n",
    "sns.heatmap(df2.corr(), square=True, cmap=\"tab10\")\n",
    "plt.show()"
   ]
  },
  {
   "cell_type": "code",
   "execution_count": 18,
   "metadata": {},
   "outputs": [
    {
     "data": {
      "image/png": "[encoded data removed]",
      "text/plain": [
       "<Figure size 720x576 with 1 Axes>"
      ]
     },
     "metadata": {
      "needs_background": "light"
     },
     "output_type": "display_data"
    }
   ],
   "source": [
    "fig, ax = plt.subplots()\n",
    "fig.set_size_inches(10, 8)\n",
    "g = sns.countplot(x = 'PAY_0', hue = 'default_last_month', data=df2)\n",
    "plt.legend(title='Default Status', loc='upper right', labels=['October Payment Made', 'Defaulted on October Payment'])\n",
    "plt.title('Total Number of Months in Default vs. October Default Status')\n",
    "fig.savefig('PAY_0_bar.png')\n",
    "plt.show()"
   ]
  },
  {
   "cell_type": "markdown",
   "metadata": {},
   "source": [
    "The most important feature in predicting whether an an individual would default in the coming month was there default status in the month before. Looking at the histogram showing the relationship it is very clear that individuals that defaulted the month prior were much higher risk in the coming month. While a person who had a one month delay was at much higher risk than people who had not defaulted, individual who had delayed payment for over one month were at an even higher risk of defaulting in the next month. Similarly in the chart below, which aggregates all months of default, with every month an individual defaulted they are at a higher risk of defaulting in the predicted month."
   ]
  },
  {
   "cell_type": "code",
   "execution_count": 4,
   "metadata": {
    "scrolled": true
   },
   "outputs": [
    {
     "ename": "AttributeError",
     "evalue": "module 'seaborn' has no attribute 'set_size_inches'",
     "output_type": "error",
     "traceback": [
      "\u001b[1;31m---------------------------------------------------------------------------\u001b[0m",
      "\u001b[1;31mAttributeError\u001b[0m                            Traceback (most recent call last)",
      "\u001b[1;32m<ipython-input-4-25ad9e78c20f>\u001b[0m in \u001b[0;36m<module>\u001b[1;34m\u001b[0m\n\u001b[0;32m      1\u001b[0m \u001b[1;32mimport\u001b[0m \u001b[0mseaborn\u001b[0m \u001b[1;32mas\u001b[0m \u001b[0msns\u001b[0m\u001b[1;33m\u001b[0m\u001b[1;33m\u001b[0m\u001b[0m\n\u001b[1;32m----> 2\u001b[1;33m \u001b[0msns\u001b[0m\u001b[1;33m.\u001b[0m\u001b[0mset_size_inches\u001b[0m\u001b[1;33m(\u001b[0m\u001b[1;36m10\u001b[0m\u001b[1;33m,\u001b[0m \u001b[1;36m8\u001b[0m\u001b[1;33m)\u001b[0m\u001b[1;33m\u001b[0m\u001b[1;33m\u001b[0m\u001b[0m\n\u001b[0m\u001b[0;32m      3\u001b[0m \u001b[0msns\u001b[0m\u001b[1;33m.\u001b[0m\u001b[0mcountplot\u001b[0m\u001b[1;33m(\u001b[0m\u001b[0mx\u001b[0m \u001b[1;33m=\u001b[0m \u001b[1;34m'aggregate_default_simple'\u001b[0m\u001b[1;33m,\u001b[0m \u001b[0mhue\u001b[0m \u001b[1;33m=\u001b[0m \u001b[1;34m'default_last_month'\u001b[0m\u001b[1;33m,\u001b[0m \u001b[0mdata\u001b[0m\u001b[1;33m=\u001b[0m\u001b[0mdf2\u001b[0m\u001b[1;33m)\u001b[0m\u001b[1;33m\u001b[0m\u001b[1;33m\u001b[0m\u001b[0m\n\u001b[0;32m      4\u001b[0m \u001b[0mplt\u001b[0m\u001b[1;33m.\u001b[0m\u001b[0mtitle\u001b[0m\u001b[1;33m(\u001b[0m\u001b[1;34m'Final Default Status by Prior Months Defaulted  '\u001b[0m\u001b[1;33m)\u001b[0m\u001b[1;33m\u001b[0m\u001b[1;33m\u001b[0m\u001b[0m\n\u001b[0;32m      5\u001b[0m \u001b[0mplt\u001b[0m\u001b[1;33m.\u001b[0m\u001b[0mlegend\u001b[0m\u001b[1;33m(\u001b[0m\u001b[0mtitle\u001b[0m \u001b[1;33m=\u001b[0m \u001b[1;34m'Default Status'\u001b[0m\u001b[1;33m,\u001b[0m \u001b[0mlabels\u001b[0m \u001b[1;33m=\u001b[0m \u001b[1;33m[\u001b[0m\u001b[1;34m'No Default'\u001b[0m\u001b[1;33m,\u001b[0m \u001b[1;34m'Defaulted on Payment'\u001b[0m\u001b[1;33m]\u001b[0m\u001b[1;33m)\u001b[0m\u001b[1;33m\u001b[0m\u001b[1;33m\u001b[0m\u001b[0m\n",
      "\u001b[1;31mAttributeError\u001b[0m: module 'seaborn' has no attribute 'set_size_inches'"
     ]
    }
   ],
   "source": [
    "import seaborn as sns\n",
    "sns.set_size_inches(10, 8)\n",
    "sns.countplot(x = 'aggregate_default_simple', hue = 'default_last_month', data=df2)\n",
    "plt.title('Final Default Status by Prior Months Defaulted  ')\n",
    "plt.legend(title = 'Default Status', labels = ['No Default', 'Defaulted on Payment'])\n",
    "plt.show()"
   ]
  },
  {
   "cell_type": "code",
   "execution_count": 3,
   "metadata": {},
   "outputs": [
    {
     "ename": "NameError",
     "evalue": "name 'df2' is not defined",
     "output_type": "error",
     "traceback": [
      "\u001b[1;31m---------------------------------------------------------------------------\u001b[0m",
      "\u001b[1;31mNameError\u001b[0m                                 Traceback (most recent call last)",
      "\u001b[1;32m<ipython-input-3-994ad96395e7>\u001b[0m in \u001b[0;36m<module>\u001b[1;34m\u001b[0m\n\u001b[1;32m----> 1\u001b[1;33m \u001b[0mdf4\u001b[0m \u001b[1;33m=\u001b[0m \u001b[0mdf2\u001b[0m\u001b[1;33m.\u001b[0m\u001b[0mcopy\u001b[0m\u001b[1;33m(\u001b[0m\u001b[1;33m)\u001b[0m\u001b[1;33m\u001b[0m\u001b[1;33m\u001b[0m\u001b[0m\n\u001b[0m\u001b[0;32m      2\u001b[0m \u001b[0mpay_dict\u001b[0m \u001b[1;33m=\u001b[0m  \u001b[1;33m{\u001b[0m\u001b[1;33m-\u001b[0m\u001b[1;36m2\u001b[0m\u001b[1;33m:\u001b[0m\u001b[1;36m0\u001b[0m\u001b[1;33m,\u001b[0m \u001b[1;33m-\u001b[0m\u001b[1;36m1\u001b[0m\u001b[1;33m:\u001b[0m\u001b[1;36m0\u001b[0m\u001b[1;33m,\u001b[0m \u001b[1;36m0\u001b[0m\u001b[1;33m:\u001b[0m\u001b[1;36m0\u001b[0m\u001b[1;33m,\u001b[0m \u001b[1;36m1\u001b[0m\u001b[1;33m:\u001b[0m\u001b[1;36m1\u001b[0m\u001b[1;33m,\u001b[0m \u001b[1;36m2\u001b[0m\u001b[1;33m:\u001b[0m\u001b[1;36m2\u001b[0m\u001b[1;33m,\u001b[0m \u001b[1;36m3\u001b[0m\u001b[1;33m:\u001b[0m\u001b[1;36m3\u001b[0m\u001b[1;33m,\u001b[0m \u001b[1;36m4\u001b[0m\u001b[1;33m:\u001b[0m\u001b[1;36m4\u001b[0m\u001b[1;33m,\u001b[0m \u001b[1;36m5\u001b[0m\u001b[1;33m:\u001b[0m\u001b[1;36m5\u001b[0m\u001b[1;33m,\u001b[0m \u001b[1;36m6\u001b[0m\u001b[1;33m:\u001b[0m\u001b[1;36m6\u001b[0m\u001b[1;33m,\u001b[0m \u001b[1;36m7\u001b[0m\u001b[1;33m:\u001b[0m\u001b[1;36m7\u001b[0m\u001b[1;33m,\u001b[0m \u001b[1;36m8\u001b[0m\u001b[1;33m:\u001b[0m\u001b[1;36m8\u001b[0m\u001b[1;33m}\u001b[0m\u001b[1;33m\u001b[0m\u001b[1;33m\u001b[0m\u001b[0m\n\u001b[0;32m      3\u001b[0m \u001b[0mdf4\u001b[0m\u001b[1;33m[\u001b[0m\u001b[1;34m'PAY_0'\u001b[0m\u001b[1;33m]\u001b[0m \u001b[1;33m=\u001b[0m \u001b[0mdf2\u001b[0m\u001b[1;33m.\u001b[0m\u001b[0mPAY_0\u001b[0m\u001b[1;33m.\u001b[0m\u001b[0mmap\u001b[0m\u001b[1;33m(\u001b[0m\u001b[0mpay_dict\u001b[0m\u001b[1;33m)\u001b[0m\u001b[1;33m\u001b[0m\u001b[1;33m\u001b[0m\u001b[0m\n\u001b[0;32m      4\u001b[0m \u001b[1;33m\u001b[0m\u001b[0m\n\u001b[0;32m      5\u001b[0m \u001b[0mdf4\u001b[0m\u001b[1;33m[\u001b[0m\u001b[1;34m'PAY_2'\u001b[0m\u001b[1;33m]\u001b[0m \u001b[1;33m=\u001b[0m \u001b[0mdf2\u001b[0m\u001b[1;33m.\u001b[0m\u001b[0mPAY_2\u001b[0m\u001b[1;33m.\u001b[0m\u001b[0mmap\u001b[0m\u001b[1;33m(\u001b[0m\u001b[0mpay_dict\u001b[0m\u001b[1;33m)\u001b[0m\u001b[1;33m\u001b[0m\u001b[1;33m\u001b[0m\u001b[0m\n",
      "\u001b[1;31mNameError\u001b[0m: name 'df2' is not defined"
     ]
    }
   ],
   "source": [
    "df4 = df2.copy()\n",
    "pay_dict =  {-2:0, -1:0, 0:0, 1:1, 2:2, 3:3, 4:4, 5:5, 6:6, 7:7, 8:8}\n",
    "df4['PAY_0'] = df2.PAY_0.map(pay_dict)\n",
    "\n",
    "df4['PAY_2'] = df2.PAY_2.map(pay_dict)\n",
    "\n",
    "df4['PAY_3'] = df2.PAY_3.map(pay_dict)\n",
    "\n",
    "df4['PAY_4'] = df2.PAY_4.map(pay_dict)\n",
    "df4['PAY_5'] = df2.PAY_5.map(pay_dict)\n",
    "df4['PAY_6'] = df2.PAY_6.map(pay_dict)\n",
    "df2['total_months_behind'] = (df2.PAY_0 + df2.PAY_2 + df2.PAY_3 + df2.PAY_4 + df2.PAY_5 + df2.PAY_6) /6\n",
    "\n"
   ]
  },
  {
   "cell_type": "markdown",
   "metadata": {},
   "source": [
    "In the cell above you can see that I am mapping several values with a dictionary. The dictionary is specifically substituting values of 0 for any negative values. This is appropriate because of the new features I have created. all the cells being mapped for this process represent how many months behind a credit user is. However when the negative numbers represent something else entirely. -2 means that no credit was used at all and -1  shows that a credit card was paid off in full. When looking to see how may months behind a person has been in aggregate, using those negative numbers will cancel out the values of months when there were defaults because a person hasn't used there credit or paid it off fully. "
   ]
  },
  {
   "cell_type": "code",
   "execution_count": 21,
   "metadata": {
    "scrolled": false
   },
   "outputs": [
    {
     "data": {
      "image/png": "[encoded data removed]",
      "text/plain": [
       "<Figure size 720x576 with 1 Axes>"
      ]
     },
     "metadata": {
      "needs_background": "light"
     },
     "output_type": "display_data"
    }
   ],
   "source": [
    "fig, ax = plt.subplots()\n",
    "fig.set_size_inches(10, 8)\n",
    "sns.countplot(x = 'MARRIAGE', hue = 'default_last_month', data=df2)\n",
    "plt.xticks([ 1, 2,3], ['Married', 'Single', 'Other'])\n",
    "plt.yticks([0, 1000, 2000, 3000, 4000, 5000, 6000, 7000, 8000, 9000, 10000])\n",
    "plt.legend(title = 'Default Status', labels = ['No Default', 'Defaulted on Payment'])\n",
    "\n",
    "plt.show()\n"
   ]
  },
  {
   "cell_type": "code",
   "execution_count": 22,
   "metadata": {},
   "outputs": [
    {
     "data": {
      "text/plain": [
       "2    15964\n",
       "1    13659\n",
       "3      323\n",
       "0       54\n",
       "Name: MARRIAGE, dtype: int64"
      ]
     },
     "execution_count": 22,
     "metadata": {},
     "output_type": "execute_result"
    }
   ],
   "source": [
    "df2.MARRIAGE.value_counts()"
   ]
  },
  {
   "cell_type": "code",
   "execution_count": 60,
   "metadata": {},
   "outputs": [
    {
     "data": {
      "text/plain": [
       "0    0.7788\n",
       "1    0.2212\n",
       "Name: default_last_month, dtype: float64"
      ]
     },
     "execution_count": 60,
     "metadata": {},
     "output_type": "execute_result"
    }
   ],
   "source": [
    "df2['default_last_month'].value_counts(normalize = True)\n"
   ]
  },
  {
   "cell_type": "code",
   "execution_count": 23,
   "metadata": {
    "scrolled": true
   },
   "outputs": [
    {
     "data": {
      "text/plain": [
       "MARRIAGE  default_last_month\n",
       "0         0                     0.907407\n",
       "          1                     0.092593\n",
       "1         0                     0.765283\n",
       "          1                     0.234717\n",
       "2         0                     0.790717\n",
       "          1                     0.209283\n",
       "3         0                     0.739938\n",
       "          1                     0.260062\n",
       "Name: default_last_month, dtype: float64"
      ]
     },
     "execution_count": 23,
     "metadata": {},
     "output_type": "execute_result"
    }
   ],
   "source": [
    "df_marriage = df2.groupby(['MARRIAGE'])\n",
    "df_marriage.default_last_month.value_counts(normalize=True)"
   ]
  },
  {
   "cell_type": "code",
   "execution_count": 59,
   "metadata": {},
   "outputs": [
    {
     "name": "stdout",
     "output_type": "stream",
     "text": [
      "<class 'pandas.core.groupby.generic.DataFrameGroupBy'>\n"
     ]
    }
   ],
   "source": [
    "print(type(df_marriage))"
   ]
  },
  {
   "cell_type": "code",
   "execution_count": 24,
   "metadata": {},
   "outputs": [
    {
     "data": {
      "image/png": "[encoded data removed]",
      "text/plain": [
       "<Figure size 864x720 with 1 Axes>"
      ]
     },
     "metadata": {
      "needs_background": "light"
     },
     "output_type": "display_data"
    }
   ],
   "source": [
    "fig, ax = plt.subplots()\n",
    "fig.set_size_inches(12, 10)\n",
    "sns.countplot(x ='EDUCATION', hue = 'default_last_month', data=df2)\n",
    "plt.xticks([ 1, 2,3,  4, 5, 6], ['Graduate School', 'University', 'High School',  'Other', 'Unknown', 'Unknown'])\n",
    "plt.yticks([0, 1000, 2000, 3000, 4000, 5000, 6000, 7000, 8000, 9000, 10000])\n",
    "plt.legend(title = 'Default Status', labels = ['No Default', 'Defaulted on Payment'])\n",
    "\n",
    "fig.savefig('education_bar.png')\n",
    "\n",
    "plt.show()"
   ]
  },
  {
   "cell_type": "code",
   "execution_count": 25,
   "metadata": {},
   "outputs": [
    {
     "name": "stdout",
     "output_type": "stream",
     "text": [
      "<pandas.core.groupby.generic.DataFrameGroupBy object at 0x0000019F40299AC8>\n"
     ]
    },
    {
     "data": {
      "text/plain": [
       "EDUCATION  default_last_month\n",
       "0          0                     1.000000\n",
       "1          0                     0.807652\n",
       "           1                     0.192348\n",
       "2          0                     0.762651\n",
       "           1                     0.237349\n",
       "3          0                     0.748424\n",
       "           1                     0.251576\n",
       "4          0                     0.943089\n",
       "           1                     0.056911\n",
       "5          0                     0.935714\n",
       "           1                     0.064286\n",
       "6          0                     0.843137\n",
       "           1                     0.156863\n",
       "Name: default_last_month, dtype: float64"
      ]
     },
     "execution_count": 25,
     "metadata": {},
     "output_type": "execute_result"
    }
   ],
   "source": [
    "df_edu = df2.groupby(['EDUCATION'])\n",
    "print(df_edu)\n",
    "df_edu.default_last_month.value_counts(normalize=True)"
   ]
  },
  {
   "cell_type": "code",
   "execution_count": 26,
   "metadata": {
    "scrolled": true
   },
   "outputs": [
    {
     "data": {
      "image/png": "[encoded data removed]",
      "text/plain": [
       "<Figure size 432x288 with 1 Axes>"
      ]
     },
     "metadata": {
      "needs_background": "light"
     },
     "output_type": "display_data"
    }
   ],
   "source": [
    "sns.countplot('SEX', hue = 'default_last_month' , data = df2)\n",
    "plt.xticks([0, 1], ['Male', 'Female'])\n",
    "plt.legend(title = 'Default Status', labels = ['No Default', 'Defaulted on Payment'])\n",
    "\n",
    "plt.show()\n",
    "\n"
   ]
  },
  {
   "cell_type": "code",
   "execution_count": 27,
   "metadata": {},
   "outputs": [
    {
     "data": {
      "text/plain": [
       "SEX  default_last_month\n",
       "1    0                     0.758328\n",
       "     1                     0.241672\n",
       "2    0                     0.792237\n",
       "     1                     0.207763\n",
       "Name: default_last_month, dtype: float64"
      ]
     },
     "execution_count": 27,
     "metadata": {},
     "output_type": "execute_result"
    }
   ],
   "source": [
    "df_gender = df2.groupby(['SEX'])\n",
    "df_gender.default_last_month.value_counts(normalize=True)"
   ]
  },
  {
   "cell_type": "markdown",
   "metadata": {},
   "source": [
    "Below I create the X dataframe and the y label which I will then use with scikit learn models. Before doing so I use pandas 'dropna' function on the dataframe because scikit learn can not run with nan values. \n"
   ]
  },
  {
   "cell_type": "code",
   "execution_count": 28,
   "metadata": {},
   "outputs": [],
   "source": [
    "from sklearn.neighbors import KNeighborsClassifier\n",
    "from sklearn.model_selection import train_test_split\n",
    "from sklearn.preprocessing import StandardScaler\n",
    "from sklearn.pipeline import Pipeline\n",
    "from sklearn.model_selection import GridSearchCV\n",
    "\n",
    "df2=df2.dropna()                         \n",
    "X= df2.drop(['default_last_month','ID'], axis = 1)\n",
    "y= df2['default_last_month'] \n",
    "df2 = df2.apply(pd.to_numeric, errors='ignore')\n"
   ]
  },
  {
   "cell_type": "code",
   "execution_count": 29,
   "metadata": {
    "scrolled": false
   },
   "outputs": [],
   "source": [
    "\n",
    "X_train, X_test, y_train, y_test = train_test_split(X, y, test_size = .20, random_state=21)\n"
   ]
  },
  {
   "cell_type": "markdown",
   "metadata": {},
   "source": [
    "Below I run scikit-learn's KNeighborsClassifier algorithm. The model perform's very poorly and providing no justification for further testing or hyperparameterization with the model"
   ]
  },
  {
   "cell_type": "code",
   "execution_count": 30,
   "metadata": {
    "scrolled": false
   },
   "outputs": [
    {
     "name": "stdout",
     "output_type": "stream",
     "text": [
      "[[3341  155]\n",
      " [ 891  113]]\n",
      "              precision    recall  f1-score   support\n",
      "\n",
      "           0       0.79      0.96      0.86      3496\n",
      "           1       0.42      0.11      0.18      1004\n",
      "\n",
      "    accuracy                           0.77      4500\n",
      "   macro avg       0.61      0.53      0.52      4500\n",
      "weighted avg       0.71      0.77      0.71      4500\n",
      "\n",
      "score:0.7675555555555555\n"
     ]
    }
   ],
   "source": [
    "from sklearn.metrics import classification_report\n",
    "from sklearn.metrics import confusion_matrix\n",
    "\n",
    "X_train, X_test, y_train, y_test =  train_test_split(X, y, test_size = .15,  random_state = 25)\n",
    "\n",
    "knn = KNeighborsClassifier(n_neighbors = 11)\n",
    "\n",
    "knn.fit(X_train, y_train)\n",
    "\n",
    "y_pred = knn.predict(X_test)\n",
    "\n",
    "print(confusion_matrix(y_test, y_pred))\n",
    "print(classification_report(y_test, y_pred))\n",
    "print(f'score:{knn.score(X_test, y_test)}')\n",
    "3454"
   ]
  },
  {
   "cell_type": "code",
   "execution_count": 31,
   "metadata": {},
   "outputs": [],
   "source": [
    "from sklearn.tree import DecisionTreeClassifier\n",
    "from sklearn.model_selection import train_test_split\n",
    "from sklearn.metrics import accuracy_score\n",
    "from sklearn.metrics import classification_report\n",
    "from sklearn.metrics import confusion_matrix\n",
    "from sklearn.ensemble import BaggingClassifier\n",
    "from sklearn.metrics import mean_squared_error as MSE\n",
    "from sklearn.ensemble import RandomForestClassifier\n"
   ]
  },
  {
   "cell_type": "markdown",
   "metadata": {},
   "source": [
    "Below I run GridSearchCV on the random forest classifier to find the best hyperparameters for the random forest algorithm. "
   ]
  },
  {
   "cell_type": "code",
   "execution_count": 47,
   "metadata": {},
   "outputs": [
    {
     "name": "stdout",
     "output_type": "stream",
     "text": [
      "{'max_depth': 9, 'max_features': 6, 'n_estimators': 200}\n",
      "RandomForestClassifier(bootstrap=True, class_weight=None, criterion='gini',\n",
      "            max_depth=9, max_features=6, max_leaf_nodes=None,\n",
      "            min_impurity_decrease=0.0, min_impurity_split=None,\n",
      "            min_samples_leaf=1, min_samples_split=2,\n",
      "            min_weight_fraction_leaf=0.0, n_estimators=200, n_jobs=None,\n",
      "            oob_score=False, random_state=None, verbose=0,\n",
      "            warm_start=False)\n"
     ]
    }
   ],
   "source": [
    "\n",
    "import numpy as np\n",
    "max_features = [6, 8, 13, 21, 27]\n",
    "num_estimators = [ 100, 200]\n",
    "depth = [7,8, 9, 11] \n",
    "parameters = {'n_estimators':num_estimators, 'max_depth': depth, 'max_features' : max_features}\n",
    "\n",
    "rf = RandomForestClassifier()\n",
    "clf = GridSearchCV(rf, parameters, cv=5)\n",
    "clf.fit(X_train, y_train)\n",
    "print(clf.best_params_)\n",
    "b_estimator = clf.best_estimator_\n",
    "print(b_estimator)"
   ]
  },
  {
   "cell_type": "code",
   "execution_count": 32,
   "metadata": {
    "scrolled": true
   },
   "outputs": [
    {
     "name": "stdout",
     "output_type": "stream",
     "text": [
      "0.819\n",
      "[[4440  207]\n",
      " [ 879  474]]\n",
      "              precision    recall  f1-score   support\n",
      "\n",
      "           0       0.83      0.96      0.89      4647\n",
      "           1       0.70      0.35      0.47      1353\n",
      "\n",
      "    accuracy                           0.82      6000\n",
      "   macro avg       0.77      0.65      0.68      6000\n",
      "weighted avg       0.80      0.82      0.80      6000\n",
      "\n",
      "[[0.94730524 0.05269476]\n",
      " [0.91078577 0.08921423]\n",
      " [0.90662841 0.09337159]\n",
      " ...\n",
      " [0.91479366 0.08520634]\n",
      " [0.93348756 0.06651244]\n",
      " [0.84934284 0.15065716]]\n"
     ]
    }
   ],
   "source": [
    "\n",
    "X_train, X_test, y_train, y_test = train_test_split(X, y, test_size = .20, random_state = seedy)\n",
    "rf = RandomForestClassifier(n_estimators = 200, max_depth = 9, max_features = 6)\n",
    "rf.fit(X_train, y_train)\n",
    "y_pred = rf.predict(X_test)\n",
    "y_proba = rf.predict_proba(X_test)\n",
    "acc = accuracy_score(y_test, y_pred)\n",
    "print(acc)\n",
    "print(confusion_matrix(y_test, y_pred))\n",
    "print(classification_report(y_test, y_pred))\n",
    "print(y_proba)"
   ]
  },
  {
   "cell_type": "code",
   "execution_count": null,
   "metadata": {},
   "outputs": [],
   "source": []
  },
  {
   "cell_type": "code",
   "execution_count": 33,
   "metadata": {},
   "outputs": [
    {
     "data": {
      "text/plain": [
       "array([0.02154459, 0.00218185, 0.00582123, 0.00333135, 0.02020504,\n",
       "       0.17919273, 0.03552472, 0.01890159, 0.01465442, 0.01153715,\n",
       "       0.00791037, 0.02577765, 0.02064975, 0.01824161, 0.0179155 ,\n",
       "       0.01894829, 0.01708007, 0.01944107, 0.01660865, 0.01829547,\n",
       "       0.01601343, 0.01393797, 0.01622402, 0.02226437, 0.01065866,\n",
       "       0.04493078, 0.06120032, 0.03127362, 0.1049929 , 0.02312401,\n",
       "       0.09284128, 0.06877557])"
      ]
     },
     "execution_count": 33,
     "metadata": {},
     "output_type": "execute_result"
    }
   ],
   "source": [
    "rf.feature_importances_\n"
   ]
  },
  {
   "cell_type": "code",
   "execution_count": 34,
   "metadata": {},
   "outputs": [
    {
     "name": "stdout",
     "output_type": "stream",
     "text": [
      "(6000,)\n",
      "(6000, 2)\n"
     ]
    }
   ],
   "source": [
    "print(y_test.shape)\n",
    "print(y_proba.shape)"
   ]
  },
  {
   "cell_type": "code",
   "execution_count": 35,
   "metadata": {},
   "outputs": [
    {
     "data": {
      "text/plain": [
       "Index(['ID', 'LIMIT_BAL', 'SEX', 'EDUCATION', 'MARRIAGE', 'AGE', 'PAY_0',\n",
       "       'PAY_2', 'PAY_3', 'PAY_4', 'PAY_5', 'PAY_6', 'BILL_AMT1', 'BILL_AMT2',\n",
       "       'BILL_AMT3', 'BILL_AMT4', 'BILL_AMT5', 'BILL_AMT6', 'PAY_AMT1',\n",
       "       'PAY_AMT2', 'PAY_AMT3', 'PAY_AMT4', 'PAY_AMT5', 'PAY_AMT6',\n",
       "       'PERCENT_LIMIT', 'PERCENT_PAY', 'ever_default', 'Limit_history',\n",
       "       'Total_PAY_AMT', 'total_months_behind', 'Total_Bill_AMT',\n",
       "       'aggregate_default', 'aggregate_default_simple', 'default_last_month'],\n",
       "      dtype='object')"
      ]
     },
     "execution_count": 35,
     "metadata": {},
     "output_type": "execute_result"
    }
   ],
   "source": [
    "df2.columns"
   ]
  },
  {
   "cell_type": "markdown",
   "metadata": {},
   "source": [
    "# Feature Importances\n",
    "\n",
    "In the above cell we can see which features played the largest role in making predictions. The biggest predictors, in order of importance were:\n",
    " PAY_O, aggregate_default_simple, Total_Bill_AMT, Total_PAY_AMT, ever_default, and percent_limit. Interestingly besides PAY_0 all of these features were ones that I created by combining and comparing multiple original features.\n"
   ]
  },
  {
   "cell_type": "code",
   "execution_count": 38,
   "metadata": {},
   "outputs": [
    {
     "data": {
      "text/plain": [
       "0.7965531330881124"
      ]
     },
     "execution_count": 38,
     "metadata": {},
     "output_type": "execute_result"
    }
   ],
   "source": [
    "from sklearn.metrics import roc_auc_score\n",
    "y_score = y_proba[:,1]\n",
    "roc_auc_score(y_test, y_score)"
   ]
  },
  {
   "cell_type": "code",
   "execution_count": 39,
   "metadata": {},
   "outputs": [
    {
     "name": "stdout",
     "output_type": "stream",
     "text": [
      "<class 'numpy.ndarray'>\n",
      "[0 0 0 ... 0 0 0]\n"
     ]
    },
    {
     "data": {
      "text/plain": [
       "(6000,)"
      ]
     },
     "execution_count": 39,
     "metadata": {},
     "output_type": "execute_result"
    }
   ],
   "source": [
    "y_test = np.asarray(y_test)\n",
    "#print(y_true[:,1])\n",
    "print(type(y_test))\n",
    "print(y_test)\n",
    "y_test.shape"
   ]
  },
  {
   "cell_type": "code",
   "execution_count": null,
   "metadata": {},
   "outputs": [],
   "source": []
  },
  {
   "cell_type": "code",
   "execution_count": 40,
   "metadata": {},
   "outputs": [
    {
     "name": "stdout",
     "output_type": "stream",
     "text": [
      "[0.05269476 0.08921423 0.09337159 ... 0.08520634 0.06651244 0.15065716]\n"
     ]
    }
   ],
   "source": [
    "\n",
    "y_proba_1 = y_proba[:,1]\n",
    "print(y_proba_1)"
   ]
  },
  {
   "cell_type": "code",
   "execution_count": 41,
   "metadata": {},
   "outputs": [
    {
     "data": {
      "image/png": "[encoded data removed]",
      "text/plain": [
       "<Figure size 432x288 with 1 Axes>"
      ]
     },
     "metadata": {
      "needs_background": "light"
     },
     "output_type": "display_data"
    }
   ],
   "source": [
    "from sklearn.metrics import roc_curve\n",
    "\n",
    "f_positive_r, t_positive_r, thresholds = roc_curve(y_test, y_proba_1)\n",
    "plt.plot(f_positive_r, t_positive_r)\n",
    "plt.xlabel('False Positive Rate')\n",
    "plt.ylabel('True Positive Rate')\n",
    "plt.title('Logistic Regression ROC Curve')\n",
    "plt.legend( labels = ['Logistic Regression'])\n",
    "plt.savefig('ROC_Curve.png')\n",
    "plt.show()"
   ]
  },
  {
   "cell_type": "code",
   "execution_count": 56,
   "metadata": {},
   "outputs": [
    {
     "name": "stdout",
     "output_type": "stream",
     "text": [
      "Index(['ID', 'LIMIT_BAL', 'SEX', 'EDUCATION', 'MARRIAGE', 'AGE', 'PAY_0',\n",
      "       'PAY_2', 'PAY_3', 'PAY_4', 'PAY_5', 'PAY_6', 'BILL_AMT1', 'BILL_AMT2',\n",
      "       'BILL_AMT3', 'BILL_AMT4', 'BILL_AMT5', 'BILL_AMT6', 'PAY_AMT1',\n",
      "       'PAY_AMT2', 'PAY_AMT3', 'PAY_AMT4', 'PAY_AMT5', 'PAY_AMT6',\n",
      "       'PERCENT_LIMIT', 'PERCENT_PAY', 'ever_default', 'Limit_history',\n",
      "       'Total_PAY_AMT', 'total_months_behind', 'Total_Bill_AMT',\n",
      "       'aggregate_default', 'aggregate_default_simple', 'default_last_month'],\n",
      "      dtype='object')\n",
      "0        (0.00852, 0.306]\n",
      "1        (0.00852, 0.306]\n",
      "2          (0.306, 0.602]\n",
      "3          (0.898, 1.194]\n",
      "4        (0.00852, 0.306]\n",
      "5           (1.194, 1.49]\n",
      "6          (0.602, 0.898]\n",
      "7        (0.00852, 0.306]\n",
      "8        (0.00852, 0.306]\n",
      "10       (0.00852, 0.306]\n",
      "11       (0.00852, 0.306]\n",
      "12       (0.00852, 0.306]\n",
      "13         (0.898, 1.194]\n",
      "14       (0.00852, 0.306]\n",
      "15         (0.898, 1.194]\n",
      "16         (0.602, 0.898]\n",
      "17         (0.602, 0.898]\n",
      "20       (0.00852, 0.306]\n",
      "22         (0.306, 0.602]\n",
      "23       (0.00852, 0.306]\n",
      "24       (0.00852, 0.306]\n",
      "25         (0.898, 1.194]\n",
      "27         (0.306, 0.602]\n",
      "28       (0.00852, 0.306]\n",
      "29         (0.306, 0.602]\n",
      "30       (0.00852, 0.306]\n",
      "31         (0.602, 0.898]\n",
      "32         (0.898, 1.194]\n",
      "33       (0.00852, 0.306]\n",
      "34       (0.00852, 0.306]\n",
      "               ...       \n",
      "29966      (0.898, 1.194]\n",
      "29967      (0.898, 1.194]\n",
      "29968      (0.602, 0.898]\n",
      "29969      (0.306, 0.602]\n",
      "29970    (0.00852, 0.306]\n",
      "29971      (0.602, 0.898]\n",
      "29972    (0.00852, 0.306]\n",
      "29974    (0.00852, 0.306]\n",
      "29975    (0.00852, 0.306]\n",
      "29976       (1.194, 1.49]\n",
      "29977      (0.306, 0.602]\n",
      "29978      (0.602, 0.898]\n",
      "29980      (0.602, 0.898]\n",
      "29981      (0.602, 0.898]\n",
      "29982    (0.00852, 0.306]\n",
      "29983    (0.00852, 0.306]\n",
      "29984    (0.00852, 0.306]\n",
      "29986    (0.00852, 0.306]\n",
      "29987    (0.00852, 0.306]\n",
      "29988      (0.898, 1.194]\n",
      "29989    (0.00852, 0.306]\n",
      "29990      (0.898, 1.194]\n",
      "29991    (0.00852, 0.306]\n",
      "29992      (0.602, 0.898]\n",
      "29993    (0.00852, 0.306]\n",
      "29994      (0.898, 1.194]\n",
      "29995      (0.602, 0.898]\n",
      "29996    (0.00852, 0.306]\n",
      "29997    (0.00852, 0.306]\n",
      "29999      (0.898, 1.194]\n",
      "Name: PERCENT_LIMIT, Length: 25293, dtype: category\n",
      "Categories (5, interval[float64]): [(0.00852, 0.306] < (0.306, 0.602] < (0.602, 0.898] < (0.898, 1.194] < (1.194, 1.49]]\n"
     ]
    },
    {
     "data": {
      "text/plain": [
       "[(0.00852, 0.306], (0.306, 0.602], (0.898, 1.194], (1.194, 1.49], (0.602, 0.898]]\n",
       "Categories (5, interval[float64]): [(0.00852, 0.306] < (0.306, 0.602] < (0.602, 0.898] < (0.898, 1.194] < (1.194, 1.49]]"
      ]
     },
     "execution_count": 56,
     "metadata": {},
     "output_type": "execute_result"
    }
   ],
   "source": [
    "df11 = df2.copy()\n",
    "df11 = df11[df11['PERCENT_LIMIT']<1.5]\n",
    "df11 = df11[df11['PERCENT_LIMIT']>0.0]\n",
    "print(df11.columns)\n",
    "df11.PERCENT_LIMIT.head()\n",
    "percent_limit_bins = pd.cut(df11['PERCENT_LIMIT'], bins = 5)\n",
    "print(percent_limit_bins)\n",
    "percent_limit_bins.unique()"
   ]
  },
  {
   "cell_type": "code",
   "execution_count": null,
   "metadata": {},
   "outputs": [],
   "source": []
  },
  {
   "cell_type": "code",
   "execution_count": 57,
   "metadata": {
    "scrolled": false
   },
   "outputs": [
    {
     "data": {
      "text/plain": [
       "<function matplotlib.pyplot.show(*args, **kw)>"
      ]
     },
     "execution_count": 57,
     "metadata": {},
     "output_type": "execute_result"
    },
    {
     "data": {
      "image/png": "[encoded data removed]",
      "text/plain": [
       "<Figure size 432x288 with 1 Axes>"
      ]
     },
     "metadata": {
      "needs_background": "light"
     },
     "output_type": "display_data"
    }
   ],
   "source": [
    "plt.clf()\n",
    "sns.countplot(percent_limit_bins,  hue = df11['default_last_month'])\n",
    "plt.xticks(ticks = np.arange(5), labels = ['<30.6%', '<60.2%','<89.8%', '<119.4%', '<149.0%'] )\n",
    "plt.xlabel('Percent of Balance Limit Used')\n",
    "plt.legend(title = 'Default Status', labels = ['No Default', 'Defaulted on Payment'])\n",
    "fig.savefig('Percentage_Limits.png')\n",
    "plt.show"
   ]
  },
  {
   "cell_type": "code",
   "execution_count": 54,
   "metadata": {},
   "outputs": [
    {
     "data": {
      "text/plain": [
       "[(9010.0, 208000.0], (406000.0, 604000.0], (208000.0, 406000.0], (604000.0, 802000.0], (802000.0, 1000000.0]]\n",
       "Categories (5, interval[float64]): [(9010.0, 208000.0] < (208000.0, 406000.0] < (406000.0, 604000.0] < (604000.0, 802000.0] < (802000.0, 1000000.0]]"
      ]
     },
     "execution_count": 54,
     "metadata": {},
     "output_type": "execute_result"
    }
   ],
   "source": [
    "\n",
    "limit_bins = pd.cut(df11['LIMIT_BAL'], bins = 5)\n",
    "limit_bins.unique()"
   ]
  },
  {
   "cell_type": "code",
   "execution_count": 53,
   "metadata": {},
   "outputs": [
    {
     "data": {
      "text/plain": [
       "Index(['ID', 'LIMIT_BAL', 'SEX', 'EDUCATION', 'MARRIAGE', 'AGE', 'PAY_0',\n",
       "       'PAY_2', 'PAY_3', 'PAY_4', 'PAY_5', 'PAY_6', 'BILL_AMT1', 'BILL_AMT2',\n",
       "       'BILL_AMT3', 'BILL_AMT4', 'BILL_AMT5', 'BILL_AMT6', 'PAY_AMT1',\n",
       "       'PAY_AMT2', 'PAY_AMT3', 'PAY_AMT4', 'PAY_AMT5', 'PAY_AMT6',\n",
       "       'default.payment.next.month', 'PERCENT_LIMIT', 'PERCENT_PAY',\n",
       "       'ever_default', 'Limit_history', 'Total_PAY_AMT', 'total_months_behind',\n",
       "       'Total_Bill_AMT', 'aggregate_default', 'aggregate_default_simple',\n",
       "       'default_last_month', 'percent_limit_bins'],\n",
       "      dtype='object')"
      ]
     },
     "execution_count": 53,
     "metadata": {},
     "output_type": "execute_result"
    }
   ],
   "source": [
    "df11.columns"
   ]
  },
  {
   "cell_type": "code",
   "execution_count": 57,
   "metadata": {},
   "outputs": [
    {
     "data": {
      "text/plain": [
       "<function matplotlib.pyplot.show(*args, **kw)>"
      ]
     },
     "execution_count": 57,
     "metadata": {},
     "output_type": "execute_result"
    },
    {
     "data": {
      "image/png": "[encoded data removed]",
      "text/plain": [
       "<Figure size 432x288 with 1 Axes>"
      ]
     },
     "metadata": {
      "needs_background": "light"
     },
     "output_type": "display_data"
    }
   ],
   "source": [
    "plt.clf()\n",
    "sns.countplot(percent_limit_bins,  hue = df11['default_last_month'])\n",
    "plt.xticks(ticks = np.arange(5), labels = ['<20,8000', '<406,000', '<604,000','802,000', '1,000,000' ])\n",
    "plt.xlabel('Credit limit')\n",
    "plt.legend(title = 'Default Status', labels = ['No Default', 'Defaulted on Payment'])\n",
    "fig.savefig('Balance_Limits.png')\n",
    "plt.show"
   ]
  },
  {
   "cell_type": "markdown",
   "metadata": {},
   "source": [
    "Above was the initial out of the box performance from scikit-learn's Random Forest Model. There results were quite good as you can see from the accuracy score, confusion matrix, and classification report. However in later cells I will us the predict_proba method to see how in some situations using the predict_proba method while decreasing accuracy, may give more useful outcome. This is because some predictions may be more valuable than others. Predicting one default may be more valuable than incorrectly predicting a payment. To actually make the decision on how much more important one prediction is than another the data set would need to include information on profit from not defaulting and loss on defaults. \n"
   ]
  },
  {
   "cell_type": "code",
   "execution_count": 43,
   "metadata": {},
   "outputs": [
    {
     "name": "stdout",
     "output_type": "stream",
     "text": [
      "[0 0 0 ... 0 0 0]\n",
      "0.8031666666666667\n",
      "[[4074  573]\n",
      " [ 608  745]]\n",
      "              precision    recall  f1-score   support\n",
      "\n",
      "           0       0.87      0.88      0.87      4647\n",
      "           1       0.57      0.55      0.56      1353\n",
      "\n",
      "    accuracy                           0.80      6000\n",
      "   macro avg       0.72      0.71      0.72      6000\n",
      "weighted avg       0.80      0.80      0.80      6000\n",
      "\n"
     ]
    }
   ],
   "source": [
    "threshold = 0.3\n",
    "y_pred_by_proba_30 = (y_proba[:,1] >= threshold).astype('int')\n",
    "print(y_pred_by_proba_30)\n",
    "acc = accuracy_score(y_test, y_pred_by_proba_30)\n",
    "print(acc)\n",
    "print(confusion_matrix(y_test, y_pred_by_proba_30))\n",
    "print(classification_report(y_test, y_pred_by_proba_30))"
   ]
  },
  {
   "cell_type": "markdown",
   "metadata": {},
   "source": [
    "In the above code, I change the threshold for being classified as likely to default so that all individuals with a probability of defaulting above .3 are predicted to default. "
   ]
  },
  {
   "cell_type": "code",
   "execution_count": 59,
   "metadata": {},
   "outputs": [
    {
     "name": "stdout",
     "output_type": "stream",
     "text": [
      "(6000, 32)\n"
     ]
    },
    {
     "data": {
      "text/plain": [
       "(6000,)"
      ]
     },
     "execution_count": 59,
     "metadata": {},
     "output_type": "execute_result"
    }
   ],
   "source": [
    "print(X_test.shape)\n",
    "y_pred_by_proba_30.shape"
   ]
  },
  {
   "cell_type": "code",
   "execution_count": null,
   "metadata": {},
   "outputs": [],
   "source": [
    "threshold = 0.2\n",
    "y_pred_by_proba_20 = (y_proba[:,1] >= threshold).astype('int')\n",
    "print(y_pred_by_proba)\n",
    "acc = accuracy_score(y_test, y_pred_by_proba)\n",
    "print(acc)\n",
    "print(confusion_matrix(y_test, y_pred_by_proba))\n",
    "print(classification_report(y_test, y_pred_by_proba))"
   ]
  },
  {
   "cell_type": "code",
   "execution_count": null,
   "metadata": {},
   "outputs": [],
   "source": [
    "y_predict_by_proba_30"
   ]
  },
  {
   "cell_type": "markdown",
   "metadata": {},
   "source": [
    "In the 2 cells above, I chose to decrease the threshold used to label a customer as a default risk. By doing this we are increasing the amount of actual defaults we will predict. This means we will also predict more non-defaults as defaults than normal. However we will also be predicting more real defaults. In fact by decreasing the Random Forest predictproba threshod to .3 we predict a majority of the defaults (55%) in the coming month.  Even though there are more non defaults predicted as defaults than the 50% threshold, only 14% of non- defaulters are being predicted to default after the change to a 30% threshold. \n",
    "    If we go even further and put the threshold at .2 we now predict over 68% of defaults. However we are now predicting 32% of non defaults as defaults. Decreasing the threshold for what is considered a default is risk below 50% is likely reasonable when it comes to risk managment. To decide just where to set the limit one would need to know the typical profit of non-defaults vs. the typical loss of defaults to determine where the company can get maximum profits.\n",
    "    If we had more information it would be quite interesting to "
   ]
  },
  {
   "cell_type": "code",
   "execution_count": 44,
   "metadata": {},
   "outputs": [
    {
     "name": "stdout",
     "output_type": "stream",
     "text": [
      "[0.80836527 0.81133333 0.82433333 0.8335     0.8258043 ]\n"
     ]
    }
   ],
   "source": [
    "from sklearn.model_selection import cross_val_score\n",
    "from sklearn.ensemble import RandomForestRegressor\n",
    "RFreg = RandomForestClassifier(max_depth = 8, n_estimators = 200)\n",
    "C_score = cross_val_score(RFreg, X, y, cv = 5)\n",
    "print(C_score)\n"
   ]
  },
  {
   "cell_type": "markdown",
   "metadata": {},
   "source": [
    "Average Random Forest Classifier Score with cross_val_score: .82067"
   ]
  },
  {
   "cell_type": "markdown",
   "metadata": {},
   "source": [
    "\n",
    "# 5 fold cross validation score\n",
    "Above you can see that by using a five fold cross validation we get an average random forest classifier score of .8206 that is essentially identical to the the accuracy score we got while predicting for the single test sample earlier. Supporting the notion that our earlier test was in now way irregular. "
   ]
  },
  {
   "cell_type": "raw",
   "metadata": {},
   "source": [
    "from sklearn.ensemble import AdaBoostClassifier\n",
    "from sklearn.tree import DecisionTreeClassifier\n",
    "from sklearn.metrics import roc_auc_score\n",
    "from sklearn.model_selection import train_test_split\n",
    "from sklearn.model_selection import GridSearchCV\n",
    "from sklearn.model_selection import GridSearchCV\n",
    "from sklearn.model_selection import StratifiedKFold\n",
    "from sklearn.preprocessing import LabelEncoder\n",
    "learning_rate = [0.0001, 0.001, 0.01, 0.1, 0.2, 0.3]\n"
   ]
  },
  {
   "cell_type": "code",
   "execution_count": 28,
   "metadata": {},
   "outputs": [
    {
     "name": "stdout",
     "output_type": "stream",
     "text": [
      "0.8243333333333334\n",
      "[[4514  171]\n",
      " [ 883  432]]\n",
      "              precision    recall  f1-score   support\n",
      "\n",
      "           0       0.84      0.96      0.90      4685\n",
      "           1       0.72      0.33      0.45      1315\n",
      "\n",
      "   micro avg       0.82      0.82      0.82      6000\n",
      "   macro avg       0.78      0.65      0.67      6000\n",
      "weighted avg       0.81      0.82      0.80      6000\n",
      "\n"
     ]
    }
   ],
   "source": [
    "adb_clf = AdaBoostClassifier(base_estimator = dtboost, n_estimators = 1000, learning_rate = .009)\n",
    "adb_clf.fit(X_train, y_train)\n",
    "y_adb_pred = adb_clf.predict(X_test)\n",
    "acc = accuracy_score(y_test, y_adb_pred)\n",
    "print(acc)\n",
    "print(confusion_matrix(y_test, y_adb_pred))\n",
    "print(classification_report(y_test, y_adb_pred))\n"
   ]
  },
  {
   "cell_type": "markdown",
   "metadata": {},
   "source": [
    "Looking at the performance of the gradient boosters  vs. Random Forest:\n",
    "We see that as straight out of the box models, Random Forest performs better in terms of accuracy. We can see that recall is 5% higher than Adaboost, and 2% higher than Gradient boost.  Although Adaboost and Gradientboost have a precision that is one to two percent higher than Random Forest such a small increase in false positives is less valuable than the increased percentage of default that is predicted. Additionaly of the two choices of adaboost and Gradientboost, Gradient boost is clearly the better of the two.\n",
    "\n",
    "Random Forest:\n",
    "precision    recall  f1-score   support\n",
    "\n",
    "           0       0.85      0.94      0.89      4731\n",
    "           1       0.64      0.38      0.47      1269\n",
    "Adaboost - \n",
    "                precision    recall  f1-score   support\n",
    "\n",
    "           0       0.84      0.95      0.90      4746\n",
    "           1       0.65      0.33      0.44      1254\n",
    "Gradientboost \n",
    "                precision    recall  f1-score   support\n",
    "\n",
    "           0       0.85      0.95      0.90      4731\n",
    "           1       0.66      0.36      0.46      1269"
   ]
  },
  {
   "cell_type": "code",
   "execution_count": 29,
   "metadata": {
    "scrolled": true
   },
   "outputs": [
    {
     "data": {
      "text/plain": [
       "GridSearchCV(cv=5, error_score='raise-deprecating',\n",
       "       estimator=GradientBoostingClassifier(criterion='friedman_mse', init=None,\n",
       "              learning_rate=0.1, loss='deviance', max_depth=3,\n",
       "              max_features=None, max_leaf_nodes=None,\n",
       "              min_impurity_decrease=0.0, min_impurity_split=None,\n",
       "              min_samples_leaf=1, min_sampl...      subsample=1.0, tol=0.0001, validation_fraction=0.1,\n",
       "              verbose=0, warm_start=False),\n",
       "       fit_params=None, iid='warn', n_jobs=None,\n",
       "       param_grid={'n_estimators': [500, 1000], 'max_features': [0.1, 0.15, 0.2], 'max_depth': [3, 6, 9], 'learning_rate': [0.01, 0.02, 0.05]},\n",
       "       pre_dispatch='2*n_jobs', refit=True, return_train_score='warn',\n",
       "       scoring=None, verbose=0)"
      ]
     },
     "execution_count": 29,
     "metadata": {},
     "output_type": "execute_result"
    }
   ],
   "source": [
    "from sklearn.ensemble import GradientBoostingClassifier\n",
    "GBC_Grid = GradientBoostingClassifier()\n",
    "\n",
    "import numpy as np\n",
    "n_estimators = [500, 1000]\n",
    "max_features = [.1, .15,.2]\n",
    "learning_rate = [.01, .02, .05]\n",
    "max_depth = [3, 6, 9]\n",
    "parameters = {'n_estimators':n_estimators, 'max_features': max_features, 'max_depth' : max_depth, 'learning_rate': learning_rate }\n",
    "\n",
    "clf2 = GridSearchCV(GBC_Grid, param_grid = parameters, cv=5)\n",
    "clf2.fit(X_train, y_train)"
   ]
  },
  {
   "cell_type": "code",
   "execution_count": 30,
   "metadata": {},
   "outputs": [
    {
     "name": "stdout",
     "output_type": "stream",
     "text": [
      "{'learning_rate': 0.02, 'max_depth': 3, 'max_features': 0.15, 'n_estimators': 500}\n",
      "GradientBoostingClassifier(criterion='friedman_mse', init=None,\n",
      "              learning_rate=0.02, loss='deviance', max_depth=3,\n",
      "              max_features=0.15, max_leaf_nodes=None,\n",
      "              min_impurity_decrease=0.0, min_impurity_split=None,\n",
      "              min_samples_leaf=1, min_samples_split=2,\n",
      "              min_weight_fraction_leaf=0.0, n_estimators=500,\n",
      "              n_iter_no_change=None, presort='auto', random_state=None,\n",
      "              subsample=1.0, tol=0.0001, validation_fraction=0.1,\n",
      "              verbose=0, warm_start=False)\n"
     ]
    }
   ],
   "source": [
    "print(clf2.best_params_)\n",
    "b_estimator = clf2.best_estimator_\n",
    "print(b_estimator)"
   ]
  },
  {
   "cell_type": "code",
   "execution_count": 46,
   "metadata": {
    "scrolled": true
   },
   "outputs": [
    {
     "name": "stdout",
     "output_type": "stream",
     "text": [
      "0.8183333333333334\n",
      "[[4443  204]\n",
      " [ 886  467]]\n",
      "              precision    recall  f1-score   support\n",
      "\n",
      "           0       0.83      0.96      0.89      4647\n",
      "           1       0.70      0.35      0.46      1353\n",
      "\n",
      "    accuracy                           0.82      6000\n",
      "   macro avg       0.76      0.65      0.68      6000\n",
      "weighted avg       0.80      0.82      0.79      6000\n",
      "\n"
     ]
    }
   ],
   "source": [
    "from sklearn.ensemble import GradientBoostingClassifier\n",
    "GBC = GradientBoostingClassifier(learning_rate=0.02, subsample = .6, max_features = .15,  n_estimators=500)\n",
    "GBC.fit(X_train, y_train)\n",
    "GBC_pred = GBC.predict(X_test)\n",
    "GBC_acc = accuracy_score(y_test, GBC_pred)\n",
    "print(GBC_acc)\n",
    "print(confusion_matrix(y_test, GBC_pred))\n",
    "print(classification_report(y_test, GBC_pred))\n"
   ]
  },
  {
   "cell_type": "code",
   "execution_count": 52,
   "metadata": {},
   "outputs": [
    {
     "name": "stdout",
     "output_type": "stream",
     "text": [
      "[0.80853191 0.81233333 0.824      0.8345     0.82830472]\n"
     ]
    }
   ],
   "source": [
    "from sklearn.model_selection import cross_val_score\n",
    "from sklearn.ensemble import RandomForestRegressor\n",
    "BC_CV = GradientBoostingClassifier(learning_rate=0.02, subsample = .6, max_features = .15,  n_estimators=500)\n",
    "C_score = cross_val_score(BC_CV, X, y, cv = 5)\n",
    "print(C_score)\n"
   ]
  },
  {
   "cell_type": "markdown",
   "metadata": {},
   "source": [
    "Average Cross Validation Score for hyperparameterized Gradient Boost Classifier: .8215"
   ]
  },
  {
   "cell_type": "code",
   "execution_count": 48,
   "metadata": {},
   "outputs": [
    {
     "name": "stdout",
     "output_type": "stream",
     "text": [
      "[[0.94926001 0.05073999]\n",
      " [0.8872298  0.1127702 ]\n",
      " [0.90296792 0.09703208]\n",
      " ...\n",
      " [0.89742609 0.10257391]\n",
      " [0.92959493 0.07040507]\n",
      " [0.84963941 0.15036059]]\n"
     ]
    }
   ],
   "source": [
    "print(gb_prob)"
   ]
  },
  {
   "cell_type": "code",
   "execution_count": 51,
   "metadata": {},
   "outputs": [
    {
     "name": "stdout",
     "output_type": "stream",
     "text": [
      "[0 0 0 ... 0 0 0]\n",
      "0.8036666666666666\n",
      "[[4080  567]\n",
      " [ 611  742]]\n",
      "              precision    recall  f1-score   support\n",
      "\n",
      "           0       0.87      0.88      0.87      4647\n",
      "           1       0.57      0.55      0.56      1353\n",
      "\n",
      "    accuracy                           0.80      6000\n",
      "   macro avg       0.72      0.71      0.72      6000\n",
      "weighted avg       0.80      0.80      0.80      6000\n",
      "\n"
     ]
    }
   ],
   "source": [
    "threshold2 = .3\n",
    "y_gb_proba = (gb_prob[:,1]>= threshold2).astype('int')\n",
    "print(y_gb_proba)\n",
    "print(accuracy_score(y_test, y_gb_proba))\n",
    "print(confusion_matrix(y_test, y_gb_proba))\n",
    "print(classification_report(y_test, y_gb_proba))"
   ]
  },
  {
   "cell_type": "markdown",
   "metadata": {},
   "source": [
    "The Gradient Boost Classifier performs very similary to RandomForestClassifier. While gradient boost's original confusion matrix was essentially identical to Random Forest. When using a threshold of .30 the recall of both models was .55 of the gradient boost classifier was .57 essentially while predicting actual defaults at the same rate, our gradientboosting algorithm was predicting less false positive (less non-defaults were predicted as defaults. This indicates our Gradient boosting classifier performed slightly better. "
   ]
  }
 ],
 "metadata": {
  "kernelspec": {
   "display_name": "Python 3",
   "language": "python",
   "name": "python3"
  },
  "language_info": {
   "codemirror_mode": {
    "name": "ipython",
    "version": 3
   },
   "file_extension": ".py",
   "mimetype": "text/x-python",
   "name": "python",
   "nbconvert_exporter": "python",
   "pygments_lexer": "ipython3",
   "version": "3.7.3"
  }
 },
 "nbformat": 4,
 "nbformat_minor": 2
}
